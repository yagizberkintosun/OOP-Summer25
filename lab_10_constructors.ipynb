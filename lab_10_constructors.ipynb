{
 "cells": [
  {
   "cell_type": "code",
   "execution_count": 3,
   "id": "1524f261",
   "metadata": {},
   "outputs": [],
   "source": [
    "class Animal:\n",
    "    def __init__(self):\n",
    "        print(\"I love animals\")\n"
   ]
  },
  {
   "cell_type": "code",
   "execution_count": 5,
   "id": "c82ed9ee",
   "metadata": {},
   "outputs": [
    {
     "name": "stdout",
     "output_type": "stream",
     "text": [
      "I love animals\n"
     ]
    }
   ],
   "source": [
    "Cat=Animal()\n"
   ]
  },
  {
   "cell_type": "code",
   "execution_count": 6,
   "id": "074f3363",
   "metadata": {},
   "outputs": [
    {
     "name": "stdout",
     "output_type": "stream",
     "text": [
      "I love animals\n"
     ]
    }
   ],
   "source": [
    "Dog=Animal()"
   ]
  },
  {
   "cell_type": "code",
   "execution_count": 8,
   "id": "e731a2ea",
   "metadata": {},
   "outputs": [
    {
     "name": "stdout",
     "output_type": "stream",
     "text": [
      "I love animals\n"
     ]
    }
   ],
   "source": [
    "Bird=Animal()"
   ]
  },
  {
   "cell_type": "code",
   "execution_count": null,
   "id": "779f1523",
   "metadata": {},
   "outputs": [],
   "source": [
    "class Car:\n",
    "    def __init__(self, brand, model):\n",
    "        self.brand = brand\n",
    "        self.model = model\n",
    "\n",
    "car1 = Car(\"Peugeot\", \"408\")\n",
    "car2 = Car(\"Reanult\", \"Twingo\")\n",
    "car3 = Car(\"Mercedes\", \"Amg\")\n"
   ]
  }
 ],
 "metadata": {
  "kernelspec": {
   "display_name": "Python 3",
   "language": "python",
   "name": "python3"
  },
  "language_info": {
   "codemirror_mode": {
    "name": "ipython",
    "version": 3
   },
   "file_extension": ".py",
   "mimetype": "text/x-python",
   "name": "python",
   "nbconvert_exporter": "python",
   "pygments_lexer": "ipython3",
   "version": "3.12.1"
  }
 },
 "nbformat": 4,
 "nbformat_minor": 5
}
