{
 "cells": [
  {
   "cell_type": "markdown",
   "id": "a0fcfcd4",
   "metadata": {},
   "source": [
    "Parent Class"
   ]
  },
  {
   "cell_type": "code",
   "execution_count": 7,
   "id": "76e4da61",
   "metadata": {},
   "outputs": [],
   "source": [
    "class Bird:\n",
    "    def __init__(self, name):\n",
    "        self.name = name\n",
    "        print(f\"Bird name: {self.name}\")\n",
    "    \n",
    "    def speak(self):\n",
    "        print(f\"{self.name} makes a chirping sound.\")\n"
   ]
  },
  {
   "cell_type": "markdown",
   "id": "e72d0106",
   "metadata": {},
   "source": [
    "Child Class"
   ]
  },
  {
   "cell_type": "code",
   "execution_count": 8,
   "id": "80837a81",
   "metadata": {},
   "outputs": [],
   "source": [
    "class Parrot(Bird):\n",
    "    def __init__(self, name, color):\n",
    "        super().__init__(name)\n",
    "        self.color = color\n",
    "        print(f\"Parrot color: {self.color}\")\n",
    "    \n",
    "    def speak(self):\n",
    "        print(f\"{self.name} says: 'Squawk!'\")\n"
   ]
  },
  {
   "cell_type": "code",
   "execution_count": 9,
   "id": "3a62bad9",
   "metadata": {},
   "outputs": [
    {
     "name": "stdout",
     "output_type": "stream",
     "text": [
      "Bird name: Polly\n",
      "Parrot color: green\n",
      "Polly says: 'Squawk!'\n"
     ]
    }
   ],
   "source": [
    "p = Parrot(\"Polly\", \"green\")\n",
    "p.speak()"
   ]
  }
 ],
 "metadata": {
  "kernelspec": {
   "display_name": "Python 3",
   "language": "python",
   "name": "python3"
  },
  "language_info": {
   "codemirror_mode": {
    "name": "ipython",
    "version": 3
   },
   "file_extension": ".py",
   "mimetype": "text/x-python",
   "name": "python",
   "nbconvert_exporter": "python",
   "pygments_lexer": "ipython3",
   "version": "3.12.1"
  }
 },
 "nbformat": 4,
 "nbformat_minor": 5
}
